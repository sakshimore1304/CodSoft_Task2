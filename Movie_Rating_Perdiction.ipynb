{
 "cells": [
  {
   "cell_type": "markdown",
   "id": "056438cc",
   "metadata": {},
   "source": [
    "# MOVIE RATING PREDICTION"
   ]
  },
  {
   "cell_type": "markdown",
   "id": "a0fa1a89",
   "metadata": {},
   "source": [
    "##### importing all the reqired libraries"
   ]
  },
  {
   "cell_type": "code",
   "execution_count": 1,
   "id": "54ecafd1",
   "metadata": {},
   "outputs": [],
   "source": [
    "import pandas as pd\n",
    "import numpy as np\n",
    "import matplotlib.pyplot as plt\n",
    "import seaborn as sns\n",
    "from sklearn.preprocessing import LabelEncoder\n",
    "from sklearn.model_selection import train_test_split\n",
    "from sklearn.linear_model import LogisticRegression\n",
    "from sklearn.tree import DecisionTreeClassifier\n",
    "from sklearn.ensemble import RandomForestClassifier\n",
    "from sklearn.neighbors import KNeighborsClassifier\n",
    "from sklearn.cluster import KMeans\n",
    "from sklearn.metrics import accuracy_score"
   ]
  },
  {
   "cell_type": "markdown",
   "id": "0c7f22a6",
   "metadata": {},
   "source": [
    "##### loading all the dataset"
   ]
  },
  {
   "cell_type": "code",
   "execution_count": 2,
   "id": "9da67ee7",
   "metadata": {},
   "outputs": [],
   "source": [
    "movies=pd.read_csv(\"C:/Users/Sakshi more/OneDrive/Desktop/movies.dat\",sep='::',engine='python')"
   ]
  },
  {
   "cell_type": "code",
   "execution_count": 3,
   "id": "cabdc39e",
   "metadata": {},
   "outputs": [],
   "source": [
    "users=pd.read_csv(\"C:/Users/Sakshi more/OneDrive/Desktop/users.dat\",sep='::',engine='python')"
   ]
  },
  {
   "cell_type": "code",
   "execution_count": 4,
   "id": "9e2c251f",
   "metadata": {},
   "outputs": [],
   "source": [
    "ratings=pd.read_csv(\"C:/Users/Sakshi more/OneDrive/Desktop/ratings.dat\",sep='::',engine='python')"
   ]
  },
  {
   "cell_type": "code",
   "execution_count": 5,
   "id": "355430b3",
   "metadata": {},
   "outputs": [
    {
     "data": {
      "text/html": [
       "<div>\n",
       "<style scoped>\n",
       "    .dataframe tbody tr th:only-of-type {\n",
       "        vertical-align: middle;\n",
       "    }\n",
       "\n",
       "    .dataframe tbody tr th {\n",
       "        vertical-align: top;\n",
       "    }\n",
       "\n",
       "    .dataframe thead th {\n",
       "        text-align: right;\n",
       "    }\n",
       "</style>\n",
       "<table border=\"1\" class=\"dataframe\">\n",
       "  <thead>\n",
       "    <tr style=\"text-align: right;\">\n",
       "      <th></th>\n",
       "      <th>1</th>\n",
       "      <th>Toy Story (1995)</th>\n",
       "      <th>Animation|Children's|Comedy</th>\n",
       "    </tr>\n",
       "  </thead>\n",
       "  <tbody>\n",
       "    <tr>\n",
       "      <th>0</th>\n",
       "      <td>2</td>\n",
       "      <td>Jumanji (1995)</td>\n",
       "      <td>Adventure|Children's|Fantasy</td>\n",
       "    </tr>\n",
       "    <tr>\n",
       "      <th>1</th>\n",
       "      <td>3</td>\n",
       "      <td>Grumpier Old Men (1995)</td>\n",
       "      <td>Comedy|Romance</td>\n",
       "    </tr>\n",
       "  </tbody>\n",
       "</table>\n",
       "</div>"
      ],
      "text/plain": [
       "   1         Toy Story (1995)   Animation|Children's|Comedy\n",
       "0  2           Jumanji (1995)  Adventure|Children's|Fantasy\n",
       "1  3  Grumpier Old Men (1995)                Comedy|Romance"
      ]
     },
     "execution_count": 5,
     "metadata": {},
     "output_type": "execute_result"
    }
   ],
   "source": [
    "movies.head(2)"
   ]
  },
  {
   "cell_type": "markdown",
   "id": "1a6c466a",
   "metadata": {},
   "source": [
    "##### giving names to the columns"
   ]
  },
  {
   "cell_type": "code",
   "execution_count": 6,
   "id": "1ea5a4ff",
   "metadata": {},
   "outputs": [],
   "source": [
    "movies.columns=['MovieID','MovieName','Category']"
   ]
  },
  {
   "cell_type": "code",
   "execution_count": 7,
   "id": "4ba784f9",
   "metadata": {},
   "outputs": [
    {
     "data": {
      "text/html": [
       "<div>\n",
       "<style scoped>\n",
       "    .dataframe tbody tr th:only-of-type {\n",
       "        vertical-align: middle;\n",
       "    }\n",
       "\n",
       "    .dataframe tbody tr th {\n",
       "        vertical-align: top;\n",
       "    }\n",
       "\n",
       "    .dataframe thead th {\n",
       "        text-align: right;\n",
       "    }\n",
       "</style>\n",
       "<table border=\"1\" class=\"dataframe\">\n",
       "  <thead>\n",
       "    <tr style=\"text-align: right;\">\n",
       "      <th></th>\n",
       "      <th>MovieID</th>\n",
       "      <th>MovieName</th>\n",
       "      <th>Category</th>\n",
       "    </tr>\n",
       "  </thead>\n",
       "  <tbody>\n",
       "    <tr>\n",
       "      <th>0</th>\n",
       "      <td>2</td>\n",
       "      <td>Jumanji (1995)</td>\n",
       "      <td>Adventure|Children's|Fantasy</td>\n",
       "    </tr>\n",
       "    <tr>\n",
       "      <th>1</th>\n",
       "      <td>3</td>\n",
       "      <td>Grumpier Old Men (1995)</td>\n",
       "      <td>Comedy|Romance</td>\n",
       "    </tr>\n",
       "  </tbody>\n",
       "</table>\n",
       "</div>"
      ],
      "text/plain": [
       "   MovieID                MovieName                      Category\n",
       "0        2           Jumanji (1995)  Adventure|Children's|Fantasy\n",
       "1        3  Grumpier Old Men (1995)                Comedy|Romance"
      ]
     },
     "execution_count": 7,
     "metadata": {},
     "output_type": "execute_result"
    }
   ],
   "source": [
    "movies.head(2)"
   ]
  },
  {
   "cell_type": "code",
   "execution_count": 8,
   "id": "e2130b72",
   "metadata": {},
   "outputs": [
    {
     "data": {
      "text/html": [
       "<div>\n",
       "<style scoped>\n",
       "    .dataframe tbody tr th:only-of-type {\n",
       "        vertical-align: middle;\n",
       "    }\n",
       "\n",
       "    .dataframe tbody tr th {\n",
       "        vertical-align: top;\n",
       "    }\n",
       "\n",
       "    .dataframe thead th {\n",
       "        text-align: right;\n",
       "    }\n",
       "</style>\n",
       "<table border=\"1\" class=\"dataframe\">\n",
       "  <thead>\n",
       "    <tr style=\"text-align: right;\">\n",
       "      <th></th>\n",
       "      <th>1</th>\n",
       "      <th>F</th>\n",
       "      <th>1.1</th>\n",
       "      <th>10</th>\n",
       "      <th>48067</th>\n",
       "    </tr>\n",
       "  </thead>\n",
       "  <tbody>\n",
       "    <tr>\n",
       "      <th>0</th>\n",
       "      <td>2</td>\n",
       "      <td>M</td>\n",
       "      <td>56</td>\n",
       "      <td>16</td>\n",
       "      <td>70072</td>\n",
       "    </tr>\n",
       "    <tr>\n",
       "      <th>1</th>\n",
       "      <td>3</td>\n",
       "      <td>M</td>\n",
       "      <td>25</td>\n",
       "      <td>15</td>\n",
       "      <td>55117</td>\n",
       "    </tr>\n",
       "  </tbody>\n",
       "</table>\n",
       "</div>"
      ],
      "text/plain": [
       "   1  F  1.1  10  48067\n",
       "0  2  M   56  16  70072\n",
       "1  3  M   25  15  55117"
      ]
     },
     "execution_count": 8,
     "metadata": {},
     "output_type": "execute_result"
    }
   ],
   "source": [
    "users.head(2)"
   ]
  },
  {
   "cell_type": "markdown",
   "id": "4def6a52",
   "metadata": {},
   "source": [
    "##### giving names to the columns"
   ]
  },
  {
   "cell_type": "code",
   "execution_count": 9,
   "id": "13765175",
   "metadata": {},
   "outputs": [],
   "source": [
    "users.columns=['ID','Gender','Age','occupation','Zipcode']"
   ]
  },
  {
   "cell_type": "code",
   "execution_count": 10,
   "id": "130b105f",
   "metadata": {},
   "outputs": [
    {
     "data": {
      "text/html": [
       "<div>\n",
       "<style scoped>\n",
       "    .dataframe tbody tr th:only-of-type {\n",
       "        vertical-align: middle;\n",
       "    }\n",
       "\n",
       "    .dataframe tbody tr th {\n",
       "        vertical-align: top;\n",
       "    }\n",
       "\n",
       "    .dataframe thead th {\n",
       "        text-align: right;\n",
       "    }\n",
       "</style>\n",
       "<table border=\"1\" class=\"dataframe\">\n",
       "  <thead>\n",
       "    <tr style=\"text-align: right;\">\n",
       "      <th></th>\n",
       "      <th>ID</th>\n",
       "      <th>Gender</th>\n",
       "      <th>Age</th>\n",
       "      <th>occupation</th>\n",
       "      <th>Zipcode</th>\n",
       "    </tr>\n",
       "  </thead>\n",
       "  <tbody>\n",
       "    <tr>\n",
       "      <th>0</th>\n",
       "      <td>2</td>\n",
       "      <td>M</td>\n",
       "      <td>56</td>\n",
       "      <td>16</td>\n",
       "      <td>70072</td>\n",
       "    </tr>\n",
       "    <tr>\n",
       "      <th>1</th>\n",
       "      <td>3</td>\n",
       "      <td>M</td>\n",
       "      <td>25</td>\n",
       "      <td>15</td>\n",
       "      <td>55117</td>\n",
       "    </tr>\n",
       "  </tbody>\n",
       "</table>\n",
       "</div>"
      ],
      "text/plain": [
       "   ID Gender  Age  occupation Zipcode\n",
       "0   2      M   56          16   70072\n",
       "1   3      M   25          15   55117"
      ]
     },
     "execution_count": 10,
     "metadata": {},
     "output_type": "execute_result"
    }
   ],
   "source": [
    "users.head(2)"
   ]
  },
  {
   "cell_type": "markdown",
   "id": "738e9d74",
   "metadata": {},
   "source": [
    "##### giving names to the columns"
   ]
  },
  {
   "cell_type": "code",
   "execution_count": 11,
   "id": "2b8368e0",
   "metadata": {},
   "outputs": [],
   "source": [
    "ratings.columns=['ID','MovieID','Ratings','Timestamp']"
   ]
  },
  {
   "cell_type": "code",
   "execution_count": 12,
   "id": "4c1ff452",
   "metadata": {},
   "outputs": [
    {
     "data": {
      "text/html": [
       "<div>\n",
       "<style scoped>\n",
       "    .dataframe tbody tr th:only-of-type {\n",
       "        vertical-align: middle;\n",
       "    }\n",
       "\n",
       "    .dataframe tbody tr th {\n",
       "        vertical-align: top;\n",
       "    }\n",
       "\n",
       "    .dataframe thead th {\n",
       "        text-align: right;\n",
       "    }\n",
       "</style>\n",
       "<table border=\"1\" class=\"dataframe\">\n",
       "  <thead>\n",
       "    <tr style=\"text-align: right;\">\n",
       "      <th></th>\n",
       "      <th>ID</th>\n",
       "      <th>MovieID</th>\n",
       "      <th>Ratings</th>\n",
       "      <th>Timestamp</th>\n",
       "    </tr>\n",
       "  </thead>\n",
       "  <tbody>\n",
       "    <tr>\n",
       "      <th>0</th>\n",
       "      <td>1</td>\n",
       "      <td>661</td>\n",
       "      <td>3</td>\n",
       "      <td>978302109</td>\n",
       "    </tr>\n",
       "    <tr>\n",
       "      <th>1</th>\n",
       "      <td>1</td>\n",
       "      <td>914</td>\n",
       "      <td>3</td>\n",
       "      <td>978301968</td>\n",
       "    </tr>\n",
       "  </tbody>\n",
       "</table>\n",
       "</div>"
      ],
      "text/plain": [
       "   ID  MovieID  Ratings  Timestamp\n",
       "0   1      661        3  978302109\n",
       "1   1      914        3  978301968"
      ]
     },
     "execution_count": 12,
     "metadata": {},
     "output_type": "execute_result"
    }
   ],
   "source": [
    "ratings.head(2)"
   ]
  },
  {
   "cell_type": "markdown",
   "id": "c4428fdf",
   "metadata": {},
   "source": [
    "##### performing merge operation on the 3 seperate dataset and make it one"
   ]
  },
  {
   "cell_type": "code",
   "execution_count": 13,
   "id": "981a77fe",
   "metadata": {},
   "outputs": [],
   "source": [
    "df=pd.merge(movies,ratings,on='MovieID')"
   ]
  },
  {
   "cell_type": "code",
   "execution_count": 14,
   "id": "d2d2c2a6",
   "metadata": {},
   "outputs": [
    {
     "data": {
      "text/html": [
       "<div>\n",
       "<style scoped>\n",
       "    .dataframe tbody tr th:only-of-type {\n",
       "        vertical-align: middle;\n",
       "    }\n",
       "\n",
       "    .dataframe tbody tr th {\n",
       "        vertical-align: top;\n",
       "    }\n",
       "\n",
       "    .dataframe thead th {\n",
       "        text-align: right;\n",
       "    }\n",
       "</style>\n",
       "<table border=\"1\" class=\"dataframe\">\n",
       "  <thead>\n",
       "    <tr style=\"text-align: right;\">\n",
       "      <th></th>\n",
       "      <th>MovieID</th>\n",
       "      <th>MovieName</th>\n",
       "      <th>Category</th>\n",
       "      <th>ID</th>\n",
       "      <th>Ratings</th>\n",
       "      <th>Timestamp</th>\n",
       "    </tr>\n",
       "  </thead>\n",
       "  <tbody>\n",
       "    <tr>\n",
       "      <th>0</th>\n",
       "      <td>2</td>\n",
       "      <td>Jumanji (1995)</td>\n",
       "      <td>Adventure|Children's|Fantasy</td>\n",
       "      <td>10</td>\n",
       "      <td>5</td>\n",
       "      <td>979168267</td>\n",
       "    </tr>\n",
       "    <tr>\n",
       "      <th>1</th>\n",
       "      <td>2</td>\n",
       "      <td>Jumanji (1995)</td>\n",
       "      <td>Adventure|Children's|Fantasy</td>\n",
       "      <td>13</td>\n",
       "      <td>3</td>\n",
       "      <td>978202563</td>\n",
       "    </tr>\n",
       "    <tr>\n",
       "      <th>2</th>\n",
       "      <td>2</td>\n",
       "      <td>Jumanji (1995)</td>\n",
       "      <td>Adventure|Children's|Fantasy</td>\n",
       "      <td>18</td>\n",
       "      <td>2</td>\n",
       "      <td>978152541</td>\n",
       "    </tr>\n",
       "    <tr>\n",
       "      <th>3</th>\n",
       "      <td>2</td>\n",
       "      <td>Jumanji (1995)</td>\n",
       "      <td>Adventure|Children's|Fantasy</td>\n",
       "      <td>23</td>\n",
       "      <td>2</td>\n",
       "      <td>978461604</td>\n",
       "    </tr>\n",
       "    <tr>\n",
       "      <th>4</th>\n",
       "      <td>2</td>\n",
       "      <td>Jumanji (1995)</td>\n",
       "      <td>Adventure|Children's|Fantasy</td>\n",
       "      <td>27</td>\n",
       "      <td>1</td>\n",
       "      <td>978129692</td>\n",
       "    </tr>\n",
       "    <tr>\n",
       "      <th>5</th>\n",
       "      <td>2</td>\n",
       "      <td>Jumanji (1995)</td>\n",
       "      <td>Adventure|Children's|Fantasy</td>\n",
       "      <td>40</td>\n",
       "      <td>5</td>\n",
       "      <td>978040739</td>\n",
       "    </tr>\n",
       "    <tr>\n",
       "      <th>6</th>\n",
       "      <td>2</td>\n",
       "      <td>Jumanji (1995)</td>\n",
       "      <td>Adventure|Children's|Fantasy</td>\n",
       "      <td>44</td>\n",
       "      <td>4</td>\n",
       "      <td>1004410663</td>\n",
       "    </tr>\n",
       "    <tr>\n",
       "      <th>7</th>\n",
       "      <td>2</td>\n",
       "      <td>Jumanji (1995)</td>\n",
       "      <td>Adventure|Children's|Fantasy</td>\n",
       "      <td>48</td>\n",
       "      <td>3</td>\n",
       "      <td>978064964</td>\n",
       "    </tr>\n",
       "    <tr>\n",
       "      <th>8</th>\n",
       "      <td>2</td>\n",
       "      <td>Jumanji (1995)</td>\n",
       "      <td>Adventure|Children's|Fantasy</td>\n",
       "      <td>53</td>\n",
       "      <td>5</td>\n",
       "      <td>977981548</td>\n",
       "    </tr>\n",
       "    <tr>\n",
       "      <th>9</th>\n",
       "      <td>2</td>\n",
       "      <td>Jumanji (1995)</td>\n",
       "      <td>Adventure|Children's|Fantasy</td>\n",
       "      <td>60</td>\n",
       "      <td>5</td>\n",
       "      <td>977931869</td>\n",
       "    </tr>\n",
       "  </tbody>\n",
       "</table>\n",
       "</div>"
      ],
      "text/plain": [
       "   MovieID       MovieName                      Category  ID  Ratings  \\\n",
       "0        2  Jumanji (1995)  Adventure|Children's|Fantasy  10        5   \n",
       "1        2  Jumanji (1995)  Adventure|Children's|Fantasy  13        3   \n",
       "2        2  Jumanji (1995)  Adventure|Children's|Fantasy  18        2   \n",
       "3        2  Jumanji (1995)  Adventure|Children's|Fantasy  23        2   \n",
       "4        2  Jumanji (1995)  Adventure|Children's|Fantasy  27        1   \n",
       "5        2  Jumanji (1995)  Adventure|Children's|Fantasy  40        5   \n",
       "6        2  Jumanji (1995)  Adventure|Children's|Fantasy  44        4   \n",
       "7        2  Jumanji (1995)  Adventure|Children's|Fantasy  48        3   \n",
       "8        2  Jumanji (1995)  Adventure|Children's|Fantasy  53        5   \n",
       "9        2  Jumanji (1995)  Adventure|Children's|Fantasy  60        5   \n",
       "\n",
       "    Timestamp  \n",
       "0   979168267  \n",
       "1   978202563  \n",
       "2   978152541  \n",
       "3   978461604  \n",
       "4   978129692  \n",
       "5   978040739  \n",
       "6  1004410663  \n",
       "7   978064964  \n",
       "8   977981548  \n",
       "9   977931869  "
      ]
     },
     "execution_count": 14,
     "metadata": {},
     "output_type": "execute_result"
    }
   ],
   "source": [
    "df.head(10)"
   ]
  },
  {
   "cell_type": "code",
   "execution_count": 15,
   "id": "528dfbf6",
   "metadata": {},
   "outputs": [],
   "source": [
    "df=pd.merge(df,users,on='ID')"
   ]
  },
  {
   "cell_type": "code",
   "execution_count": 16,
   "id": "422f2f03",
   "metadata": {},
   "outputs": [
    {
     "data": {
      "text/html": [
       "<div>\n",
       "<style scoped>\n",
       "    .dataframe tbody tr th:only-of-type {\n",
       "        vertical-align: middle;\n",
       "    }\n",
       "\n",
       "    .dataframe tbody tr th {\n",
       "        vertical-align: top;\n",
       "    }\n",
       "\n",
       "    .dataframe thead th {\n",
       "        text-align: right;\n",
       "    }\n",
       "</style>\n",
       "<table border=\"1\" class=\"dataframe\">\n",
       "  <thead>\n",
       "    <tr style=\"text-align: right;\">\n",
       "      <th></th>\n",
       "      <th>MovieID</th>\n",
       "      <th>MovieName</th>\n",
       "      <th>Category</th>\n",
       "      <th>ID</th>\n",
       "      <th>Ratings</th>\n",
       "      <th>Timestamp</th>\n",
       "      <th>Gender</th>\n",
       "      <th>Age</th>\n",
       "      <th>occupation</th>\n",
       "      <th>Zipcode</th>\n",
       "    </tr>\n",
       "  </thead>\n",
       "  <tbody>\n",
       "    <tr>\n",
       "      <th>0</th>\n",
       "      <td>2</td>\n",
       "      <td>Jumanji (1995)</td>\n",
       "      <td>Adventure|Children's|Fantasy</td>\n",
       "      <td>10</td>\n",
       "      <td>5</td>\n",
       "      <td>979168267</td>\n",
       "      <td>F</td>\n",
       "      <td>35</td>\n",
       "      <td>1</td>\n",
       "      <td>95370</td>\n",
       "    </tr>\n",
       "    <tr>\n",
       "      <th>1</th>\n",
       "      <td>7</td>\n",
       "      <td>Sabrina (1995)</td>\n",
       "      <td>Comedy|Romance</td>\n",
       "      <td>10</td>\n",
       "      <td>4</td>\n",
       "      <td>978227763</td>\n",
       "      <td>F</td>\n",
       "      <td>35</td>\n",
       "      <td>1</td>\n",
       "      <td>95370</td>\n",
       "    </tr>\n",
       "    <tr>\n",
       "      <th>2</th>\n",
       "      <td>24</td>\n",
       "      <td>Powder (1995)</td>\n",
       "      <td>Drama|Sci-Fi</td>\n",
       "      <td>10</td>\n",
       "      <td>3</td>\n",
       "      <td>978230586</td>\n",
       "      <td>F</td>\n",
       "      <td>35</td>\n",
       "      <td>1</td>\n",
       "      <td>95370</td>\n",
       "    </tr>\n",
       "    <tr>\n",
       "      <th>3</th>\n",
       "      <td>32</td>\n",
       "      <td>Twelve Monkeys (1995)</td>\n",
       "      <td>Drama|Sci-Fi</td>\n",
       "      <td>10</td>\n",
       "      <td>5</td>\n",
       "      <td>979168160</td>\n",
       "      <td>F</td>\n",
       "      <td>35</td>\n",
       "      <td>1</td>\n",
       "      <td>95370</td>\n",
       "    </tr>\n",
       "    <tr>\n",
       "      <th>4</th>\n",
       "      <td>48</td>\n",
       "      <td>Pocahontas (1995)</td>\n",
       "      <td>Animation|Children's|Musical|Romance</td>\n",
       "      <td>10</td>\n",
       "      <td>4</td>\n",
       "      <td>978230090</td>\n",
       "      <td>F</td>\n",
       "      <td>35</td>\n",
       "      <td>1</td>\n",
       "      <td>95370</td>\n",
       "    </tr>\n",
       "    <tr>\n",
       "      <th>5</th>\n",
       "      <td>62</td>\n",
       "      <td>Mr. Holland's Opus (1995)</td>\n",
       "      <td>Drama</td>\n",
       "      <td>10</td>\n",
       "      <td>5</td>\n",
       "      <td>978227051</td>\n",
       "      <td>F</td>\n",
       "      <td>35</td>\n",
       "      <td>1</td>\n",
       "      <td>95370</td>\n",
       "    </tr>\n",
       "    <tr>\n",
       "      <th>6</th>\n",
       "      <td>104</td>\n",
       "      <td>Happy Gilmore (1996)</td>\n",
       "      <td>Comedy</td>\n",
       "      <td>10</td>\n",
       "      <td>3</td>\n",
       "      <td>978227551</td>\n",
       "      <td>F</td>\n",
       "      <td>35</td>\n",
       "      <td>1</td>\n",
       "      <td>95370</td>\n",
       "    </tr>\n",
       "    <tr>\n",
       "      <th>7</th>\n",
       "      <td>110</td>\n",
       "      <td>Braveheart (1995)</td>\n",
       "      <td>Action|Drama|War</td>\n",
       "      <td>10</td>\n",
       "      <td>4</td>\n",
       "      <td>978225853</td>\n",
       "      <td>F</td>\n",
       "      <td>35</td>\n",
       "      <td>1</td>\n",
       "      <td>95370</td>\n",
       "    </tr>\n",
       "    <tr>\n",
       "      <th>8</th>\n",
       "      <td>116</td>\n",
       "      <td>Anne Frank Remembered (1995)</td>\n",
       "      <td>Documentary</td>\n",
       "      <td>10</td>\n",
       "      <td>3</td>\n",
       "      <td>979775053</td>\n",
       "      <td>F</td>\n",
       "      <td>35</td>\n",
       "      <td>1</td>\n",
       "      <td>95370</td>\n",
       "    </tr>\n",
       "    <tr>\n",
       "      <th>9</th>\n",
       "      <td>150</td>\n",
       "      <td>Apollo 13 (1995)</td>\n",
       "      <td>Drama</td>\n",
       "      <td>10</td>\n",
       "      <td>5</td>\n",
       "      <td>978226319</td>\n",
       "      <td>F</td>\n",
       "      <td>35</td>\n",
       "      <td>1</td>\n",
       "      <td>95370</td>\n",
       "    </tr>\n",
       "  </tbody>\n",
       "</table>\n",
       "</div>"
      ],
      "text/plain": [
       "   MovieID                     MovieName  \\\n",
       "0        2                Jumanji (1995)   \n",
       "1        7                Sabrina (1995)   \n",
       "2       24                 Powder (1995)   \n",
       "3       32         Twelve Monkeys (1995)   \n",
       "4       48             Pocahontas (1995)   \n",
       "5       62     Mr. Holland's Opus (1995)   \n",
       "6      104          Happy Gilmore (1996)   \n",
       "7      110             Braveheart (1995)   \n",
       "8      116  Anne Frank Remembered (1995)   \n",
       "9      150              Apollo 13 (1995)   \n",
       "\n",
       "                               Category  ID  Ratings  Timestamp Gender  Age  \\\n",
       "0          Adventure|Children's|Fantasy  10        5  979168267      F   35   \n",
       "1                        Comedy|Romance  10        4  978227763      F   35   \n",
       "2                          Drama|Sci-Fi  10        3  978230586      F   35   \n",
       "3                          Drama|Sci-Fi  10        5  979168160      F   35   \n",
       "4  Animation|Children's|Musical|Romance  10        4  978230090      F   35   \n",
       "5                                 Drama  10        5  978227051      F   35   \n",
       "6                                Comedy  10        3  978227551      F   35   \n",
       "7                      Action|Drama|War  10        4  978225853      F   35   \n",
       "8                           Documentary  10        3  979775053      F   35   \n",
       "9                                 Drama  10        5  978226319      F   35   \n",
       "\n",
       "   occupation Zipcode  \n",
       "0           1   95370  \n",
       "1           1   95370  \n",
       "2           1   95370  \n",
       "3           1   95370  \n",
       "4           1   95370  \n",
       "5           1   95370  \n",
       "6           1   95370  \n",
       "7           1   95370  \n",
       "8           1   95370  \n",
       "9           1   95370  "
      ]
     },
     "execution_count": 16,
     "metadata": {},
     "output_type": "execute_result"
    }
   ],
   "source": [
    "df.head(10)"
   ]
  },
  {
   "cell_type": "markdown",
   "id": "b41b4ace",
   "metadata": {},
   "source": [
    "##### displaying the names of the columns of the dataset"
   ]
  },
  {
   "cell_type": "code",
   "execution_count": 17,
   "id": "b4d1bd61",
   "metadata": {
    "scrolled": true
   },
   "outputs": [
    {
     "data": {
      "text/plain": [
       "Index(['MovieID', 'MovieName', 'Category', 'ID', 'Ratings', 'Timestamp',\n",
       "       'Gender', 'Age', 'occupation', 'Zipcode'],\n",
       "      dtype='object')"
      ]
     },
     "execution_count": 17,
     "metadata": {},
     "output_type": "execute_result"
    }
   ],
   "source": [
    "df.columns"
   ]
  },
  {
   "cell_type": "markdown",
   "id": "a58a1ca2",
   "metadata": {},
   "source": [
    "##### displaying the information about the dataset"
   ]
  },
  {
   "cell_type": "code",
   "execution_count": 18,
   "id": "a81f15c4",
   "metadata": {},
   "outputs": [
    {
     "name": "stdout",
     "output_type": "stream",
     "text": [
      "<class 'pandas.core.frame.DataFrame'>\n",
      "Int64Index: 998080 entries, 0 to 998079\n",
      "Data columns (total 10 columns):\n",
      " #   Column      Non-Null Count   Dtype \n",
      "---  ------      --------------   ----- \n",
      " 0   MovieID     998080 non-null  int64 \n",
      " 1   MovieName   998080 non-null  object\n",
      " 2   Category    998080 non-null  object\n",
      " 3   ID          998080 non-null  int64 \n",
      " 4   Ratings     998080 non-null  int64 \n",
      " 5   Timestamp   998080 non-null  int64 \n",
      " 6   Gender      998080 non-null  object\n",
      " 7   Age         998080 non-null  int64 \n",
      " 8   occupation  998080 non-null  int64 \n",
      " 9   Zipcode     998080 non-null  object\n",
      "dtypes: int64(6), object(4)\n",
      "memory usage: 83.8+ MB\n"
     ]
    }
   ],
   "source": [
    "df.info()"
   ]
  },
  {
   "cell_type": "markdown",
   "id": "f6052150",
   "metadata": {},
   "source": [
    "##### getting the description of the dataset"
   ]
  },
  {
   "cell_type": "code",
   "execution_count": 19,
   "id": "fe43e722",
   "metadata": {},
   "outputs": [
    {
     "data": {
      "text/html": [
       "<div>\n",
       "<style scoped>\n",
       "    .dataframe tbody tr th:only-of-type {\n",
       "        vertical-align: middle;\n",
       "    }\n",
       "\n",
       "    .dataframe tbody tr th {\n",
       "        vertical-align: top;\n",
       "    }\n",
       "\n",
       "    .dataframe thead th {\n",
       "        text-align: right;\n",
       "    }\n",
       "</style>\n",
       "<table border=\"1\" class=\"dataframe\">\n",
       "  <thead>\n",
       "    <tr style=\"text-align: right;\">\n",
       "      <th></th>\n",
       "      <th>MovieID</th>\n",
       "      <th>ID</th>\n",
       "      <th>Ratings</th>\n",
       "      <th>Timestamp</th>\n",
       "      <th>Age</th>\n",
       "      <th>occupation</th>\n",
       "    </tr>\n",
       "  </thead>\n",
       "  <tbody>\n",
       "    <tr>\n",
       "      <th>count</th>\n",
       "      <td>998080.000000</td>\n",
       "      <td>998080.000000</td>\n",
       "      <td>998080.000000</td>\n",
       "      <td>9.980800e+05</td>\n",
       "      <td>998080.000000</td>\n",
       "      <td>998080.000000</td>\n",
       "    </tr>\n",
       "    <tr>\n",
       "      <th>mean</th>\n",
       "      <td>1869.434325</td>\n",
       "      <td>3024.608884</td>\n",
       "      <td>3.580357</td>\n",
       "      <td>9.722469e+08</td>\n",
       "      <td>29.744052</td>\n",
       "      <td>8.035970</td>\n",
       "    </tr>\n",
       "    <tr>\n",
       "      <th>std</th>\n",
       "      <td>1093.878797</td>\n",
       "      <td>1728.273821</td>\n",
       "      <td>1.117300</td>\n",
       "      <td>1.215794e+07</td>\n",
       "      <td>11.749987</td>\n",
       "      <td>6.531805</td>\n",
       "    </tr>\n",
       "    <tr>\n",
       "      <th>min</th>\n",
       "      <td>2.000000</td>\n",
       "      <td>2.000000</td>\n",
       "      <td>1.000000</td>\n",
       "      <td>9.567039e+08</td>\n",
       "      <td>1.000000</td>\n",
       "      <td>0.000000</td>\n",
       "    </tr>\n",
       "    <tr>\n",
       "      <th>25%</th>\n",
       "      <td>1034.000000</td>\n",
       "      <td>1506.000000</td>\n",
       "      <td>3.000000</td>\n",
       "      <td>9.653027e+08</td>\n",
       "      <td>25.000000</td>\n",
       "      <td>2.000000</td>\n",
       "    </tr>\n",
       "    <tr>\n",
       "      <th>50%</th>\n",
       "      <td>1845.000000</td>\n",
       "      <td>3070.000000</td>\n",
       "      <td>4.000000</td>\n",
       "      <td>9.730190e+08</td>\n",
       "      <td>25.000000</td>\n",
       "      <td>7.000000</td>\n",
       "    </tr>\n",
       "    <tr>\n",
       "      <th>75%</th>\n",
       "      <td>2772.000000</td>\n",
       "      <td>4476.000000</td>\n",
       "      <td>4.000000</td>\n",
       "      <td>9.752211e+08</td>\n",
       "      <td>35.000000</td>\n",
       "      <td>14.000000</td>\n",
       "    </tr>\n",
       "    <tr>\n",
       "      <th>max</th>\n",
       "      <td>3952.000000</td>\n",
       "      <td>6040.000000</td>\n",
       "      <td>5.000000</td>\n",
       "      <td>1.046455e+09</td>\n",
       "      <td>56.000000</td>\n",
       "      <td>20.000000</td>\n",
       "    </tr>\n",
       "  </tbody>\n",
       "</table>\n",
       "</div>"
      ],
      "text/plain": [
       "             MovieID             ID        Ratings     Timestamp  \\\n",
       "count  998080.000000  998080.000000  998080.000000  9.980800e+05   \n",
       "mean     1869.434325    3024.608884       3.580357  9.722469e+08   \n",
       "std      1093.878797    1728.273821       1.117300  1.215794e+07   \n",
       "min         2.000000       2.000000       1.000000  9.567039e+08   \n",
       "25%      1034.000000    1506.000000       3.000000  9.653027e+08   \n",
       "50%      1845.000000    3070.000000       4.000000  9.730190e+08   \n",
       "75%      2772.000000    4476.000000       4.000000  9.752211e+08   \n",
       "max      3952.000000    6040.000000       5.000000  1.046455e+09   \n",
       "\n",
       "                 Age     occupation  \n",
       "count  998080.000000  998080.000000  \n",
       "mean       29.744052       8.035970  \n",
       "std        11.749987       6.531805  \n",
       "min         1.000000       0.000000  \n",
       "25%        25.000000       2.000000  \n",
       "50%        25.000000       7.000000  \n",
       "75%        35.000000      14.000000  \n",
       "max        56.000000      20.000000  "
      ]
     },
     "execution_count": 19,
     "metadata": {},
     "output_type": "execute_result"
    }
   ],
   "source": [
    "df.describe()"
   ]
  },
  {
   "cell_type": "markdown",
   "id": "60a74c4d",
   "metadata": {},
   "source": [
    "##### finding of the dataset contains any dupliacted value"
   ]
  },
  {
   "cell_type": "code",
   "execution_count": 20,
   "id": "3cb84fb1",
   "metadata": {},
   "outputs": [
    {
     "data": {
      "text/plain": [
       "0"
      ]
     },
     "execution_count": 20,
     "metadata": {},
     "output_type": "execute_result"
    }
   ],
   "source": [
    "df.duplicated().sum()"
   ]
  },
  {
   "cell_type": "markdown",
   "id": "e60ad461",
   "metadata": {},
   "source": [
    "##### finding of the dataset contains any null value"
   ]
  },
  {
   "cell_type": "code",
   "execution_count": 21,
   "id": "db203d4f",
   "metadata": {},
   "outputs": [
    {
     "data": {
      "text/plain": [
       "MovieID       0\n",
       "MovieName     0\n",
       "Category      0\n",
       "ID            0\n",
       "Ratings       0\n",
       "Timestamp     0\n",
       "Gender        0\n",
       "Age           0\n",
       "occupation    0\n",
       "Zipcode       0\n",
       "dtype: int64"
      ]
     },
     "execution_count": 21,
     "metadata": {},
     "output_type": "execute_result"
    }
   ],
   "source": [
    "df.isnull().sum()"
   ]
  },
  {
   "cell_type": "markdown",
   "id": "c86da84b",
   "metadata": {},
   "source": [
    "##### generating a countplot for the ratings of movies"
   ]
  },
  {
   "cell_type": "code",
   "execution_count": 22,
   "id": "7dd08ec2",
   "metadata": {},
   "outputs": [
    {
     "data": {
      "text/plain": [
       "Text(0.5, 1.0, 'Count of Movies as per Ratings')"
      ]
     },
     "execution_count": 22,
     "metadata": {},
     "output_type": "execute_result"
    },
    {
     "data": {
      "image/png": "[encoded data removed]",
      "text/plain": [
       "<Figure size 432x288 with 1 Axes>"
      ]
     },
     "metadata": {
      "needs_background": "light"
     },
     "output_type": "display_data"
    }
   ],
   "source": [
    "sns.countplot(x='Ratings',data=df)\n",
    "plt.title('Count of Movies as per Ratings')"
   ]
  },
  {
   "cell_type": "markdown",
   "id": "47e98b57",
   "metadata": {},
   "source": [
    "##### generating a pie chart to see the percentage of the ratings based on the gender"
   ]
  },
  {
   "cell_type": "code",
   "execution_count": 23,
   "id": "ca63b082",
   "metadata": {},
   "outputs": [
    {
     "data": {
      "text/plain": [
       "<matplotlib.legend.Legend at 0x21f2f6af0a0>"
      ]
     },
     "execution_count": 23,
     "metadata": {},
     "output_type": "execute_result"
    },
    {
     "data": {
      "image/png": "[encoded data removed]",
      "text/plain": [
       "<Figure size 432x288 with 1 Axes>"
      ]
     },
     "metadata": {},
     "output_type": "display_data"
    }
   ],
   "source": [
    "plt.pie(x=df['Gender'].value_counts(),autopct='%1.1f%%')\n",
    "plt.legend(df.Gender.unique())"
   ]
  },
  {
   "cell_type": "markdown",
   "id": "49a93d19",
   "metadata": {},
   "source": [
    "##### generating a histogram to divide the users in diffrent age groups and getting their counts"
   ]
  },
  {
   "cell_type": "code",
   "execution_count": 24,
   "id": "bf813006",
   "metadata": {},
   "outputs": [
    {
     "data": {
      "text/plain": [
       "(array([183088., 394766., 198580.,  83490., 111109.]),\n",
       " array([10, 20, 30, 40, 50, 60]),\n",
       " <BarContainer object of 5 artists>)"
      ]
     },
     "execution_count": 24,
     "metadata": {},
     "output_type": "execute_result"
    },
    {
     "data": {
      "image/png": "[encoded data removed]",
      "text/plain": [
       "<Figure size 432x288 with 1 Axes>"
      ]
     },
     "metadata": {
      "needs_background": "light"
     },
     "output_type": "display_data"
    }
   ],
   "source": [
    "plt.hist(df.Age, bins=[10,20,30,40,50,60], edgecolor='black', alpha=0.7)"
   ]
  },
  {
   "cell_type": "markdown",
   "id": "e6fdfd74",
   "metadata": {},
   "source": [
    "##### creating a new column that categorizes people in different age groups"
   ]
  },
  {
   "cell_type": "code",
   "execution_count": 25,
   "id": "7254eaca",
   "metadata": {},
   "outputs": [],
   "source": [
    "df[df['Age'].all() in [0,10],'Age Group']='0-10'\n",
    "df[df['Age'].all() in [11,20],'Age Group']='11-20'\n",
    "df[df['Age'].all() in [21,30],'Age Group']='21-30'\n",
    "df[df['Age'].all() in [31,40],'Age Group']='31-40'\n",
    "df[df['Age'].all() in [41,50],'Age Group']='41-50'\n",
    "df[df['Age'].all() in [51,60],'Age Group']='51-60'"
   ]
  },
  {
   "cell_type": "code",
   "execution_count": 26,
   "id": "a9554d00",
   "metadata": {},
   "outputs": [
    {
     "data": {
      "text/html": [
       "<div>\n",
       "<style scoped>\n",
       "    .dataframe tbody tr th:only-of-type {\n",
       "        vertical-align: middle;\n",
       "    }\n",
       "\n",
       "    .dataframe tbody tr th {\n",
       "        vertical-align: top;\n",
       "    }\n",
       "\n",
       "    .dataframe thead th {\n",
       "        text-align: right;\n",
       "    }\n",
       "</style>\n",
       "<table border=\"1\" class=\"dataframe\">\n",
       "  <thead>\n",
       "    <tr style=\"text-align: right;\">\n",
       "      <th></th>\n",
       "      <th>MovieID</th>\n",
       "      <th>MovieName</th>\n",
       "      <th>Category</th>\n",
       "      <th>ID</th>\n",
       "      <th>Ratings</th>\n",
       "      <th>Timestamp</th>\n",
       "      <th>Gender</th>\n",
       "      <th>Age</th>\n",
       "      <th>occupation</th>\n",
       "      <th>Zipcode</th>\n",
       "      <th>(False, Age Group)</th>\n",
       "    </tr>\n",
       "  </thead>\n",
       "  <tbody>\n",
       "    <tr>\n",
       "      <th>0</th>\n",
       "      <td>2</td>\n",
       "      <td>Jumanji (1995)</td>\n",
       "      <td>Adventure|Children's|Fantasy</td>\n",
       "      <td>10</td>\n",
       "      <td>5</td>\n",
       "      <td>979168267</td>\n",
       "      <td>F</td>\n",
       "      <td>35</td>\n",
       "      <td>1</td>\n",
       "      <td>95370</td>\n",
       "      <td>51-60</td>\n",
       "    </tr>\n",
       "    <tr>\n",
       "      <th>1</th>\n",
       "      <td>7</td>\n",
       "      <td>Sabrina (1995)</td>\n",
       "      <td>Comedy|Romance</td>\n",
       "      <td>10</td>\n",
       "      <td>4</td>\n",
       "      <td>978227763</td>\n",
       "      <td>F</td>\n",
       "      <td>35</td>\n",
       "      <td>1</td>\n",
       "      <td>95370</td>\n",
       "      <td>51-60</td>\n",
       "    </tr>\n",
       "    <tr>\n",
       "      <th>2</th>\n",
       "      <td>24</td>\n",
       "      <td>Powder (1995)</td>\n",
       "      <td>Drama|Sci-Fi</td>\n",
       "      <td>10</td>\n",
       "      <td>3</td>\n",
       "      <td>978230586</td>\n",
       "      <td>F</td>\n",
       "      <td>35</td>\n",
       "      <td>1</td>\n",
       "      <td>95370</td>\n",
       "      <td>51-60</td>\n",
       "    </tr>\n",
       "    <tr>\n",
       "      <th>3</th>\n",
       "      <td>32</td>\n",
       "      <td>Twelve Monkeys (1995)</td>\n",
       "      <td>Drama|Sci-Fi</td>\n",
       "      <td>10</td>\n",
       "      <td>5</td>\n",
       "      <td>979168160</td>\n",
       "      <td>F</td>\n",
       "      <td>35</td>\n",
       "      <td>1</td>\n",
       "      <td>95370</td>\n",
       "      <td>51-60</td>\n",
       "    </tr>\n",
       "    <tr>\n",
       "      <th>4</th>\n",
       "      <td>48</td>\n",
       "      <td>Pocahontas (1995)</td>\n",
       "      <td>Animation|Children's|Musical|Romance</td>\n",
       "      <td>10</td>\n",
       "      <td>4</td>\n",
       "      <td>978230090</td>\n",
       "      <td>F</td>\n",
       "      <td>35</td>\n",
       "      <td>1</td>\n",
       "      <td>95370</td>\n",
       "      <td>51-60</td>\n",
       "    </tr>\n",
       "  </tbody>\n",
       "</table>\n",
       "</div>"
      ],
      "text/plain": [
       "   MovieID              MovieName                              Category  ID  \\\n",
       "0        2         Jumanji (1995)          Adventure|Children's|Fantasy  10   \n",
       "1        7         Sabrina (1995)                        Comedy|Romance  10   \n",
       "2       24          Powder (1995)                          Drama|Sci-Fi  10   \n",
       "3       32  Twelve Monkeys (1995)                          Drama|Sci-Fi  10   \n",
       "4       48      Pocahontas (1995)  Animation|Children's|Musical|Romance  10   \n",
       "\n",
       "   Ratings  Timestamp Gender  Age  occupation Zipcode (False, Age Group)  \n",
       "0        5  979168267      F   35           1   95370              51-60  \n",
       "1        4  978227763      F   35           1   95370              51-60  \n",
       "2        3  978230586      F   35           1   95370              51-60  \n",
       "3        5  979168160      F   35           1   95370              51-60  \n",
       "4        4  978230090      F   35           1   95370              51-60  "
      ]
     },
     "execution_count": 26,
     "metadata": {},
     "output_type": "execute_result"
    }
   ],
   "source": [
    "df.head()"
   ]
  },
  {
   "cell_type": "markdown",
   "id": "8c4d768e",
   "metadata": {},
   "source": [
    "##### creating 2 variables one of which contains the features and the other contains the target value"
   ]
  },
  {
   "cell_type": "code",
   "execution_count": 27,
   "id": "f2a4f5e4",
   "metadata": {},
   "outputs": [],
   "source": [
    "x=df[['MovieID','Age']]"
   ]
  },
  {
   "cell_type": "code",
   "execution_count": 28,
   "id": "19ccdd9c",
   "metadata": {},
   "outputs": [],
   "source": [
    "y=df['Ratings']"
   ]
  },
  {
   "cell_type": "markdown",
   "id": "3b9621d0",
   "metadata": {},
   "source": [
    "##### splitting the data into training and testing set"
   ]
  },
  {
   "cell_type": "code",
   "execution_count": 29,
   "id": "bab09b1f",
   "metadata": {},
   "outputs": [],
   "source": [
    "x_train,x_test,y_train,y_test=train_test_split(x,y,test_size=0.20,random_state=3)"
   ]
  },
  {
   "cell_type": "markdown",
   "id": "56f08fdd",
   "metadata": {},
   "source": [
    "##### Model creation, training the model, predicting values through them and then checking their accuracy"
   ]
  },
  {
   "cell_type": "code",
   "execution_count": 30,
   "id": "267ebb58",
   "metadata": {},
   "outputs": [],
   "source": [
    "lr=LogisticRegression()"
   ]
  },
  {
   "cell_type": "code",
   "execution_count": 31,
   "id": "98dd9c47",
   "metadata": {},
   "outputs": [],
   "source": [
    "dtc=DecisionTreeClassifier()"
   ]
  },
  {
   "cell_type": "code",
   "execution_count": 32,
   "id": "70b87e6a",
   "metadata": {},
   "outputs": [],
   "source": [
    "r_forest= RandomForestClassifier(n_estimators=100)"
   ]
  },
  {
   "cell_type": "code",
   "execution_count": 33,
   "id": "44be7c31",
   "metadata": {},
   "outputs": [],
   "source": [
    "kmeans=KMeans(n_clusters=5)"
   ]
  },
  {
   "cell_type": "code",
   "execution_count": 34,
   "id": "002f272e",
   "metadata": {},
   "outputs": [
    {
     "data": {
      "text/plain": [
       "LogisticRegression()"
      ]
     },
     "execution_count": 34,
     "metadata": {},
     "output_type": "execute_result"
    }
   ],
   "source": [
    "lr.fit(x_train,y_train)"
   ]
  },
  {
   "cell_type": "code",
   "execution_count": 35,
   "id": "550dbc94",
   "metadata": {},
   "outputs": [],
   "source": [
    "p1=lr.predict(x_test)"
   ]
  },
  {
   "cell_type": "code",
   "execution_count": 36,
   "id": "b4680db2",
   "metadata": {},
   "outputs": [],
   "source": [
    "acc_1=accuracy_score(y_test,p1)"
   ]
  },
  {
   "cell_type": "code",
   "execution_count": 37,
   "id": "e9dea3f4",
   "metadata": {},
   "outputs": [
    {
     "data": {
      "text/plain": [
       "DecisionTreeClassifier()"
      ]
     },
     "execution_count": 37,
     "metadata": {},
     "output_type": "execute_result"
    }
   ],
   "source": [
    "dtc.fit(x_train,y_train)"
   ]
  },
  {
   "cell_type": "code",
   "execution_count": 38,
   "id": "c9f848d7",
   "metadata": {},
   "outputs": [],
   "source": [
    "p2=dtc.predict(x_test)"
   ]
  },
  {
   "cell_type": "code",
   "execution_count": 39,
   "id": "968ee6ff",
   "metadata": {},
   "outputs": [],
   "source": [
    "acc_2=accuracy_score(y_test,p2)"
   ]
  },
  {
   "cell_type": "code",
   "execution_count": null,
   "id": "50cd79e7",
   "metadata": {},
   "outputs": [],
   "source": [
    "r_forest.fit(x_train,y_train)"
   ]
  },
  {
   "cell_type": "code",
   "execution_count": null,
   "id": "94c251d7",
   "metadata": {},
   "outputs": [],
   "source": [
    "p3=r_forest.predict(x_test)"
   ]
  },
  {
   "cell_type": "code",
   "execution_count": null,
   "id": "9d97da6f",
   "metadata": {},
   "outputs": [],
   "source": [
    "acc_3=accuracy_score(y_test,p3)"
   ]
  },
  {
   "cell_type": "code",
   "execution_count": null,
   "id": "e079ae83",
   "metadata": {},
   "outputs": [],
   "source": [
    "kmeans.fit(x_train,y_train)"
   ]
  },
  {
   "cell_type": "code",
   "execution_count": null,
   "id": "d582a16e",
   "metadata": {},
   "outputs": [],
   "source": [
    "p4=kmeans.predict(x_test)"
   ]
  },
  {
   "cell_type": "code",
   "execution_count": null,
   "id": "fdf71313",
   "metadata": {},
   "outputs": [],
   "source": [
    "acc_4=accuracy_score(y_test,p4)"
   ]
  },
  {
   "cell_type": "code",
   "execution_count": null,
   "id": "bb43258f",
   "metadata": {},
   "outputs": [],
   "source": [
    "matrix=pd.DataFrame({'Model':['Logistic Regression','Decision Tree Classifier','Random Forest','KMeans'],'Accuracy Score':[acc_1,acc_2,acc_3,acc_4]})"
   ]
  },
  {
   "cell_type": "code",
   "execution_count": null,
   "id": "ad4d7a0c",
   "metadata": {},
   "outputs": [],
   "source": [
    "matrix"
   ]
  },
  {
   "cell_type": "markdown",
   "id": "bab853c5",
   "metadata": {},
   "source": [
    "##### from this we can see that all the models perform poorly but in comparison of these 4 models, The Random Forest Classifier is better among all"
   ]
  },
  {
   "cell_type": "code",
   "execution_count": null,
   "id": "5daa914c",
   "metadata": {},
   "outputs": [],
   "source": []
  }
 ],
 "metadata": {
  "kernelspec": {
   "display_name": "Python 3",
   "language": "python",
   "name": "python3"
  },
  "language_info": {
   "codemirror_mode": {
    "name": "ipython",
    "version": 3
   },
   "file_extension": ".py",
   "mimetype": "text/x-python",
   "name": "python",
   "nbconvert_exporter": "python",
   "pygments_lexer": "ipython3",
   "version": "3.8.8"
  }
 },
 "nbformat": 4,
 "nbformat_minor": 5
}
